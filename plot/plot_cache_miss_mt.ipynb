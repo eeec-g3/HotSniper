{
 "cells": [
  {
   "cell_type": "code",
   "execution_count": 180,
   "id": "fb98d6e9-13cf-43c4-8a47-f8778bd2a749",
   "metadata": {},
   "outputs": [],
   "source": [
    "import pandas as pd\n",
    "import numpy as np\n",
    "import matplotlib.pyplot as plt\n",
    "import gzip\n",
    "from collections import defaultdict\n",
    "import glob, os\n",
    "import matplotlib.ticker as mticker\n",
    "import seaborn as sns"
   ]
  },
  {
   "cell_type": "code",
   "execution_count": 181,
   "id": "1222731c-000f-459a-8cdc-424ef29e6c6f",
   "metadata": {},
   "outputs": [],
   "source": [
    "# hierarchy:\n",
    "# plot_multi_threads.ipynb\n",
    "#                        ./ multithreads / blackschole / result-xxxx-4.0GHz+maxFreq+slowDVFS_parsec-swaptions-simsmall-1 / sim.out"
   ]
  },
  {
   "cell_type": "code",
   "execution_count": 191,
   "id": "e5a60480-d4ae-4187-8fde-2ee8fd1c5f62",
   "metadata": {},
   "outputs": [],
   "source": [
    "# set the benchmark and cache level here\n",
    "cache_level = 'L1'"
   ]
  },
  {
   "cell_type": "code",
   "execution_count": 192,
   "id": "ddcdcfc6-523f-474b-847f-f994aa2c8520",
   "metadata": {},
   "outputs": [],
   "source": [
    "path = './multithreads/'\n",
    "frequency = 4\n",
    "freq_mode = 'maxFreq'\n",
    "DVFS_mode = 'slowDVFS'\n",
    "input_set = 'simsmall'\n",
    "threads_dict = {\n",
    "        'parsec-blackscholes': [2, 3, 4, 5, 6, 7, 8, 9, 10, 11, 12, 13, 14, 15, 16],\n",
    "        'parsec-bodytrack': [3, 4, 5, 6, 7, 8, 9, 10, 11, 12, 13, 14, 15, 16],\n",
    "        'parsec-canneal': [2, 3, 4, 5, 6, 7, 8, 9, 10, 11, 12, 13, 14, 15, 16],\n",
    "        'parsec-dedup': [4, 7, 10, 13, 16],\n",
    "        'parsec-fluidanimate': [2, 3, 0, 5, 0, 0, 0, 9],\n",
    "        'parsec-streamcluster': [2, 3, 4, 5, 6, 7, 8, 9, 10, 11, 12, 13, 14, 15, 16],\n",
    "        'parsec-swaptions': [2, 3, 4, 5, 6, 7, 8, 9, 10, 11, 12, 13, 14, 15, 16],\n",
    "        'parsec-x264': [1, 3, 4, 5, 6, 7, 8, 9]\n",
    "}"
   ]
  },
  {
   "cell_type": "code",
   "execution_count": 193,
   "id": "7b53366b-792b-4d9e-8637-f9502c36d420",
   "metadata": {},
   "outputs": [],
   "source": [
    "# cache hardcord indices\n",
    "cache_dict = {\n",
    "    \"L1\": 37,\n",
    "    \"L2\": 42,\n",
    "    \"L3\": 47\n",
    "}"
   ]
  },
  {
   "cell_type": "code",
   "execution_count": 194,
   "id": "96533df2-98d8-449c-a34f-e932e6f6ba56",
   "metadata": {},
   "outputs": [],
   "source": [
    "def get_cm_from_sim(benchmark):\n",
    "    results = {}\n",
    "    for subdir in os.listdir(path + benchmark +'/'):\n",
    "        # get the subdirectory name and use it to open file\n",
    "        with open(path + benchmark +'/'+str(subdir) + '/' + 'sim.out', 'rb') as file:         # rb: binary\n",
    "            lines = file.readlines()\n",
    "            threads = threads_dict['parsec-' + benchmark]\n",
    "            \n",
    "            thread_num = threads[int(str(subdir)[-1])-1]\n",
    "            #       firstline; remove '/n'; binary -> string; remove ','&' '; separate by '|'\n",
    "            cores = lines[0].strip().decode('ascii').replace(',','').replace(' ', '').split('|')[1:thread_num+1]    \n",
    "            #times = lines[4].strip().decode('ascii').replace(',','').replace(' ', '').split('|')[1:thread_num]\n",
    "            result_dict = {}\n",
    "            for cache, index in cache_dict.items():\n",
    "                cm = lines[index].strip().decode('ascii').replace(',','').replace(' ', '').split('|')[1:thread_num+1]\n",
    "                cm = [eval(i[:4]) for i in cm] #to int\n",
    "                result_dict[cache] = cm\n",
    "            results[thread_num] = result_dict\n",
    "    results = dict(sorted(results.items()))\n",
    "    return results"
   ]
  },
  {
   "cell_type": "code",
   "execution_count": 195,
   "id": "82e105e6-c8e9-4d80-a99c-19f63a45be16",
   "metadata": {},
   "outputs": [],
   "source": [
    "# generate lists for plotting lines\n",
    "x_a = [] # 2-dimension array\n",
    "y_a = {} # a dict\n",
    "\n",
    "x_label = 'Thread num'\n",
    "y_label = 'Miss rate(%)'\n",
    "labels = []\n",
    "# open files and get results\n",
    "\n",
    "for benchmark in os.listdir(path +'/'):\n",
    "    res = get_cm_from_sim(benchmark)\n",
    "    labels.append(benchmark)\n",
    "    y_temp = {}\n",
    "    x_temp = []\n",
    "    for key, item in res.items():\n",
    "        x_temp.append(key)\n",
    "        y_temp[key] = item[cache_level]\n",
    "    y_a[benchmark] = y_temp\n",
    "    x_a.append(x_temp)"
   ]
  },
  {
   "cell_type": "code",
   "execution_count": 196,
   "id": "8fd98076-0070-46e9-9079-2618289c389b",
   "metadata": {},
   "outputs": [
    {
     "data": {
      "text/plain": [
       "['blackscholes',\n",
       " 'bodytrack',\n",
       " 'canneal',\n",
       " 'fluidanimate',\n",
       " 'streamcluster',\n",
       " 'swaptions',\n",
       " 'x264']"
      ]
     },
     "execution_count": 196,
     "metadata": {},
     "output_type": "execute_result"
    }
   ],
   "source": [
    "title = '' # TODO\n",
    "labels"
   ]
  },
  {
   "cell_type": "code",
   "execution_count": 197,
   "id": "f904ed95-5521-4ba9-9d6f-656c6d57f291",
   "metadata": {},
   "outputs": [
    {
     "data": {
      "text/plain": [
       "[[2, 3, 4], [3, 4], [2, 3, 4], [2, 3], [2, 3, 4], [2, 3, 4], [3, 4]]"
      ]
     },
     "execution_count": 197,
     "metadata": {},
     "output_type": "execute_result"
    }
   ],
   "source": [
    "x_a"
   ]
  },
  {
   "cell_type": "code",
   "execution_count": 198,
   "id": "533fe981-aa3c-45e7-8440-83b32d832037",
   "metadata": {},
   "outputs": [
    {
     "data": {
      "text/plain": [
       "{'blackscholes': {2: [0.06, 0.31],\n",
       "  3: [0.07, 0.31, 0.31],\n",
       "  4: [0.07, 0.31, 0.31, 0.3]},\n",
       " 'bodytrack': {3: [1.48, 3.51, 1.79], 4: [1.48, 3.54, 3.52, 1.79]},\n",
       " 'canneal': {2: [3.21, 6.21],\n",
       "  3: [3.21, 6.22, 6.21],\n",
       "  4: [3.21, 6.21, 6.21, 6.21]},\n",
       " 'fluidanimate': {2: [0.36, 0.48], 3: [0.42, 0.45, 0.46]},\n",
       " 'streamcluster': {2: [1.0, 4.28],\n",
       "  3: [1.0, 4.24, 4.22],\n",
       "  4: [1.0, 4.13, 4.31, 4.28]},\n",
       " 'swaptions': {2: [2.15, 1.1],\n",
       "  3: [2.15, 1.1, 1.1],\n",
       "  4: [2.15, 1.11, 1.11, 1.11]},\n",
       " 'x264': {3: [1.98, 2.29, 3.19], 4: [1.98, 2.14, 3.01, 3.72]}}"
      ]
     },
     "execution_count": 198,
     "metadata": {},
     "output_type": "execute_result"
    }
   ],
   "source": [
    "y_a"
   ]
  },
  {
   "cell_type": "code",
   "execution_count": 204,
   "id": "9ff4494a-73c9-4dd1-98c2-6016a67ee2dd",
   "metadata": {},
   "outputs": [],
   "source": [
    "benchmark = 'streamcluster' # set benchmark here"
   ]
  },
  {
   "cell_type": "code",
   "execution_count": 203,
   "id": "c780f121-5eb4-4c58-8d36-16400d3bda0b",
   "metadata": {},
   "outputs": [
    {
     "data": {
      "image/png": "[encoded data removed]",
      "text/plain": [
       "<Figure size 1500x500 with 3 Axes>"
      ]
     },
     "metadata": {},
     "output_type": "display_data"
    }
   ],
   "source": [
    "# https://stackoverflow.com/questions/66850941/how-to-generate-a-group-bar-plot-with-different-numbers-of-bars-in-each-group\n",
    "df = pd.DataFrame({'threads': [t for t in y_a[benchmark].keys() for _ in range(t)],\n",
    "                   'cores': ['core'+str(tt) for t in y_a[benchmark].keys() for tt in range(t) ],\n",
    "                   'cache miss': [v for values in y_a[benchmark].values() for v in values ]})\n",
    "df\n",
    "# Define some hatches\n",
    "hatches = ['-', '+', 'x', '\\\\', '*', 'o']\n",
    "g = sns.catplot(kind='bar', data=df, col='threads', x='cores', y='cache miss',\n",
    "                hue='cores', palette='pastel', dodge=False, sharex=False)\n",
    "# Loop over the bars\n",
    "#ax.annotate(percentage, (x, y))\n",
    "for i in range(len(y_a[benchmark])):\n",
    "    for j,thisbar in enumerate(g.axes[0][i].patches):\n",
    "        # Set a different hatch for each bar\n",
    "        thisbar.set_hatch(hatches[j])\n",
    "        #thisbar.bar_label(j,)\n",
    "        \n",
    "        \n",
    "plt.tight_layout()\n",
    "plt.show()"
   ]
  },
  {
   "cell_type": "code",
   "execution_count": 205,
   "id": "2c73fbaa-126c-48e9-b1ea-d3e9f07e88d4",
   "metadata": {},
   "outputs": [
    {
     "data": {
      "text/html": [
       "<div>\n",
       "<style scoped>\n",
       "    .dataframe tbody tr th:only-of-type {\n",
       "        vertical-align: middle;\n",
       "    }\n",
       "\n",
       "    .dataframe tbody tr th {\n",
       "        vertical-align: top;\n",
       "    }\n",
       "\n",
       "    .dataframe thead th {\n",
       "        text-align: right;\n",
       "    }\n",
       "</style>\n",
       "<table border=\"1\" class=\"dataframe\">\n",
       "  <thead>\n",
       "    <tr style=\"text-align: right;\">\n",
       "      <th></th>\n",
       "      <th>threads</th>\n",
       "      <th>cores</th>\n",
       "      <th>cache miss</th>\n",
       "    </tr>\n",
       "  </thead>\n",
       "  <tbody>\n",
       "    <tr>\n",
       "      <th>0</th>\n",
       "      <td>2</td>\n",
       "      <td>core0</td>\n",
       "      <td>1.00</td>\n",
       "    </tr>\n",
       "    <tr>\n",
       "      <th>1</th>\n",
       "      <td>2</td>\n",
       "      <td>core1</td>\n",
       "      <td>4.28</td>\n",
       "    </tr>\n",
       "    <tr>\n",
       "      <th>2</th>\n",
       "      <td>3</td>\n",
       "      <td>core0</td>\n",
       "      <td>1.00</td>\n",
       "    </tr>\n",
       "    <tr>\n",
       "      <th>3</th>\n",
       "      <td>3</td>\n",
       "      <td>core1</td>\n",
       "      <td>4.24</td>\n",
       "    </tr>\n",
       "    <tr>\n",
       "      <th>4</th>\n",
       "      <td>3</td>\n",
       "      <td>core2</td>\n",
       "      <td>4.22</td>\n",
       "    </tr>\n",
       "    <tr>\n",
       "      <th>5</th>\n",
       "      <td>4</td>\n",
       "      <td>core0</td>\n",
       "      <td>1.00</td>\n",
       "    </tr>\n",
       "    <tr>\n",
       "      <th>6</th>\n",
       "      <td>4</td>\n",
       "      <td>core1</td>\n",
       "      <td>4.13</td>\n",
       "    </tr>\n",
       "    <tr>\n",
       "      <th>7</th>\n",
       "      <td>4</td>\n",
       "      <td>core2</td>\n",
       "      <td>4.31</td>\n",
       "    </tr>\n",
       "    <tr>\n",
       "      <th>8</th>\n",
       "      <td>4</td>\n",
       "      <td>core3</td>\n",
       "      <td>4.28</td>\n",
       "    </tr>\n",
       "  </tbody>\n",
       "</table>\n",
       "</div>"
      ],
      "text/plain": [
       "   threads  cores  cache miss\n",
       "0        2  core0        1.00\n",
       "1        2  core1        4.28\n",
       "2        3  core0        1.00\n",
       "3        3  core1        4.24\n",
       "4        3  core2        4.22\n",
       "5        4  core0        1.00\n",
       "6        4  core1        4.13\n",
       "7        4  core2        4.31\n",
       "8        4  core3        4.28"
      ]
     },
     "execution_count": 205,
     "metadata": {},
     "output_type": "execute_result"
    }
   ],
   "source": [
    "df"
   ]
  },
  {
   "cell_type": "code",
   "execution_count": null,
   "id": "ca809ed5-9c9d-4897-9dd0-1edc898497c2",
   "metadata": {},
   "outputs": [],
   "source": []
  }
 ],
 "metadata": {
  "kernelspec": {
   "display_name": "Python 3 (ipykernel)",
   "language": "python",
   "name": "python3"
  },
  "language_info": {
   "codemirror_mode": {
    "name": "ipython",
    "version": 3
   },
   "file_extension": ".py",
   "mimetype": "text/x-python",
   "name": "python",
   "nbconvert_exporter": "python",
   "pygments_lexer": "ipython3",
   "version": "3.10.5"
  }
 },
 "nbformat": 4,
 "nbformat_minor": 5
}
