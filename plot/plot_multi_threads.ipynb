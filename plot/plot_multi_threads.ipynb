{
 "cells": [
  {
   "cell_type": "code",
   "execution_count": 27,
   "id": "fb98d6e9-13cf-43c4-8a47-f8778bd2a749",
   "metadata": {},
   "outputs": [],
   "source": [
    "import pandas as pd\n",
    "import numpy as np\n",
    "import matplotlib.pyplot as plt\n",
    "import gzip\n",
    "from collections import defaultdict\n",
    "import glob, os\n",
    "import matplotlib.ticker as mticker"
   ]
  },
  {
   "cell_type": "code",
   "execution_count": 48,
   "id": "1222731c-000f-459a-8cdc-424ef29e6c6f",
   "metadata": {},
   "outputs": [],
   "source": [
    "# hierarchy:\n",
    "# plot_multi_threads.ipynb\n",
    "#                        ./ multithreads / blackschole / result-xxxx-4.0GHz+maxFreq+slowDVFS_parsec-swaptions-simsmall-1 / sim.out"
   ]
  },
  {
   "cell_type": "code",
   "execution_count": 46,
   "id": "ddcdcfc6-523f-474b-847f-f994aa2c8520",
   "metadata": {},
   "outputs": [],
   "source": [
    "path = './multithreads/'\n",
    "# set it as input\n",
    "frequency = 4\n",
    "freq_mode = 'maxFreq'\n",
    "DVFS_mode = 'slowDVFS'\n",
    "input_set = 'simsmall'"
   ]
  },
  {
   "cell_type": "code",
   "execution_count": 6,
   "id": "56c0f268-8535-4978-8781-227726968e8a",
   "metadata": {},
   "outputs": [],
   "source": [
    "benchmarks = []"
   ]
  },
  {
   "cell_type": "code",
   "execution_count": 10,
   "id": "96533df2-98d8-449c-a34f-e932e6f6ba56",
   "metadata": {},
   "outputs": [],
   "source": [
    "def get_sim_out(benchmark):\n",
    "    results = []\n",
    "    for subdir in os.listdir(path + benchmark +'/'):\n",
    "        # get the subdirectory name and use it to open file\n",
    "        #print(subdir[25:])\n",
    "        with open(path + benchmark +'/'+str(subdir) + '/' + 'sim.out', 'rb') as file:         # rb: binary\n",
    "            lines = file.readlines()\n",
    "            #       firstline; remove '/n'; binary -> string; remove ','&' '; separate by '|'\n",
    "            thread_num = int(str(subdir)[-1]) + 1\n",
    "            cores = lines[0].strip().decode('ascii').replace(',','').replace(' ', '').split('|')[1:thread_num +1]    \n",
    "            #print(cores)\n",
    "            times = lines[4].strip().decode('ascii').replace(',','').replace(' ', '').split('|')[1:thread_num +1]\n",
    "            times = [eval(i) for i in times]      # convert string to int\n",
    "            #print(times)\n",
    "            idle_times = lines[5].strip().decode('ascii').replace(',','').replace(' ', '').split('|')[1:thread_num +1]\n",
    "            idle_times = [eval(i) for i in idle_times]\n",
    "            \n",
    "            idle_perc = lines[6].strip().decode('ascii').replace(',','').replace(' ', '').split('|')[1:thread_num +1]\n",
    "            \n",
    "            #print(thread_num)\n",
    "            result_dict = {'dir': subdir[25:],\n",
    "                           'thread': thread_num,\n",
    "                           'average_time': sum(times)/thread_num,\n",
    "                           'cores': cores,          # only reserve useful data\n",
    "                           'times': times,\n",
    "                           'idle_times': idle_times,\n",
    "                           'idle_perc':idle_perc\n",
    "                          }\n",
    "            results.append(result_dict)\n",
    "    return results"
   ]
  },
  {
   "cell_type": "code",
   "execution_count": 13,
   "id": "82e105e6-c8e9-4d80-a99c-19f63a45be16",
   "metadata": {},
   "outputs": [],
   "source": [
    "# generate lists for plotting lines\n",
    "x_a = []\n",
    "y_a = []\n",
    "x_label = 'Thread num'\n",
    "y_label = 'Execution time(ns)'\n",
    "labels = []\n",
    "# open files and get results\n",
    "for benchmark in os.listdir(path +'/'):\n",
    "    res = get_sim_out(benchmark)\n",
    "    labels.append(benchmark)\n",
    "    y_temp = []\n",
    "    for item in res:\n",
    "        y_temp.append(item['average_time'])\n",
    "    y_a.append(y_temp)"
   ]
  },
  {
   "cell_type": "code",
   "execution_count": 21,
   "id": "8fd98076-0070-46e9-9079-2618289c389b",
   "metadata": {},
   "outputs": [
    {
     "data": {
      "text/plain": [
       "array([2, 3, 4])"
      ]
     },
     "execution_count": 21,
     "metadata": {},
     "output_type": "execute_result"
    }
   ],
   "source": [
    "title = '' # TODO\n",
    "x_a = np.array([i+2 for i in range(len(y_a[0]))])\n",
    "x_a"
   ]
  },
  {
   "cell_type": "code",
   "execution_count": 24,
   "id": "533fe981-aa3c-45e7-8440-83b32d832037",
   "metadata": {},
   "outputs": [
    {
     "data": {
      "text/plain": [
       "[[52794600.0, 30471400.0, 23243400.0],\n",
       " [583472300.0, 607175800.0, 669472300.0],\n",
       " [242646500.0, 131106300.0, 93372700.0],\n",
       " [142162500.0, 70998500.0, 53482700.0]]"
      ]
     },
     "execution_count": 24,
     "metadata": {},
     "output_type": "execute_result"
    }
   ],
   "source": [
    "y_a"
   ]
  },
  {
   "cell_type": "code",
   "execution_count": 44,
   "id": "1c6474e8-89bd-4367-a442-01e7b0c8160b",
   "metadata": {},
   "outputs": [],
   "source": [
    "\n",
    "# http://matplotlib.org/users/legend_guide.html\n",
    "# https://matplotlib.org/stable/gallery/lines_bars_and_markers/linestyles.html\n",
    "# https://stackoverflow.com/questions/8409095/set-markers-for-individual-points-on-a-line\n",
    "# https://stackoverflow.com/questions/52229875/how-to-force-matplotlib-to-show-values-on-x-axis-as-integers\n",
    "def plot_line(x_a, y_a, labels, x_label, y_label, title):\n",
    "    \n",
    "    x = x_a\n",
    "    y = y_a\n",
    "    linestyle = [\n",
    "     (0, (1, 10)),\n",
    "     (0, (1, 1)),\n",
    "     (0, (1, 1)),\n",
    "     (5, (10, 3)),\n",
    "     (0, (5, 10)),\n",
    "     (0, (5, 5)),\n",
    "     (0, (5, 1)),\n",
    "     (0, (3, 10, 1, 10)),\n",
    "     (0, (3, 5, 1, 5)),\n",
    "     (0, (3, 1, 1, 1)),\n",
    "     (0, (3, 5, 1, 5, 1, 5)),\n",
    "     (0, (3, 10, 1, 10, 1, 10)),\n",
    "     (0, (3, 1, 1, 1, 1, 1))]\n",
    "    markers = ['.','x','v','d','1','o','s','^','>','2','3','<','4','8','p','P','*','h','H','+','X','D','d','|','_']\n",
    "    for i in range(len(y)):\n",
    "        #mark = markers[i] if i < len(markers) else linestyle[i]    # extend if too less markers\n",
    "        plt.plot(x, y[i], label=labels[i], marker=markers[i])  #, linestyle= linestyle[i]\n",
    "        #plt.annotate(f'({xi}, {yi})', (xi, yi), textcoords=\"offset points\", xytext=(0, 10), ha='center')     # coordinates\n",
    "\n",
    "    # upper right: 1; upper left: 2; lower left: 3; lower right: 4; right: 5; center left: 6; center right: 7; lower center: 8; upper center: 9; center: 10;\n",
    "    plt.legend(loc=5) \n",
    "    plt.xlabel(x_label)\n",
    "    plt.ylabel(y_label)\n",
    "    plt.title(title)\n",
    "    plt.gca().xaxis.set_major_locator(mticker.MultipleLocator(1))  # set the x value as integer (interval as 1)\n",
    "    plt.show()"
   ]
  },
  {
   "cell_type": "code",
   "execution_count": 45,
   "id": "507d18da-2b44-4256-b8b8-321e1d468328",
   "metadata": {},
   "outputs": [
    {
     "data": {
      "image/png": "[encoded data removed]",
      "text/plain": [
       "<Figure size 640x480 with 1 Axes>"
      ]
     },
     "metadata": {},
     "output_type": "display_data"
    }
   ],
   "source": [
    "plot_line(x_a, y_a, labels, x_label, y_label, title)"
   ]
  },
  {
   "cell_type": "code",
   "execution_count": null,
   "id": "2c73fbaa-126c-48e9-b1ea-d3e9f07e88d4",
   "metadata": {},
   "outputs": [],
   "source": []
  }
 ],
 "metadata": {
  "kernelspec": {
   "display_name": "Python 3 (ipykernel)",
   "language": "python",
   "name": "python3"
  },
  "language_info": {
   "codemirror_mode": {
    "name": "ipython",
    "version": 3
   },
   "file_extension": ".py",
   "mimetype": "text/x-python",
   "name": "python",
   "nbconvert_exporter": "python",
   "pygments_lexer": "ipython3",
   "version": "3.10.5"
  }
 },
 "nbformat": 4,
 "nbformat_minor": 5
}
